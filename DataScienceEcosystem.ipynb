{
 "cells": [
  {
   "cell_type": "markdown",
   "id": "20aea2db-477c-48ac-ac9e-65e393b5e7e4",
   "metadata": {},
   "source": [
    "Exercise 2: Create markdown cell with title of the notebook"
   ]
  },
  {
   "cell_type": "markdown",
   "id": "6f766c78-44f6-4ed7-8021-1a08af3c8cb9",
   "metadata": {},
   "source": [
    "# Data Science Tools and Ecosystem"
   ]
  },
  {
   "cell_type": "markdown",
   "id": "9e418db8-2e4c-43aa-a22d-d46a4603918e",
   "metadata": {},
   "source": [
    "Exercise 3 - Create a markdown cell for an introduction"
   ]
  },
  {
   "cell_type": "markdown",
   "id": "66fee24c-1fc9-4ec5-957d-336f4a33a3fa",
   "metadata": {},
   "source": [
    "In this notebook, Data Science Tools and Ecosystem are summarized."
   ]
  },
  {
   "cell_type": "markdown",
   "id": "1bd648bd-ba7d-4c59-b9c0-d8caa188470e",
   "metadata": {},
   "source": [
    "Exercise 4 - Create a markdown cell to list data science languages"
   ]
  },
  {
   "cell_type": "markdown",
   "id": "640c263e-7887-4607-982a-f8cf9200662d",
   "metadata": {},
   "source": [
    "Some of the popular languages that Data Scientists use are:  \n",
    "    - Python  \n",
    "    - R  \n",
    "    - SQL"
   ]
  },
  {
   "cell_type": "markdown",
   "id": "9823b24d-5802-4464-9732-91000e8b624d",
   "metadata": {},
   "source": [
    "Exercise 5 - Create a markdown cell to list data science libraries"
   ]
  },
  {
   "cell_type": "markdown",
   "id": "3565465c-af26-4c4a-a6c0-bdcdee2ebeac",
   "metadata": {
    "tags": []
   },
   "source": [
    "Some of the commonly used libraries used by Data Scientists include:<br>\n",
    "    - Numpy <br>\n",
    "    - Pandas <br>\n",
    "    - Scikit-learn"
   ]
  },
  {
   "cell_type": "markdown",
   "id": "957e8f77-4d31-4c89-ab01-2224217ad53f",
   "metadata": {},
   "source": [
    "Exercise 6 - Create a markdown cell with a table of Data Science tools"
   ]
  },
  {
   "cell_type": "markdown",
   "id": "ac905944-505e-4c32-bc55-87374ee9ee71",
   "metadata": {},
   "source": [
    "|Data Science Tools|\n",
    "|------------------|\n",
    "|Jupyter Notebooks|\n",
    "|RStudio|\n",
    "|Apache Zeppelin|\n"
   ]
  },
  {
   "cell_type": "markdown",
   "id": "da44deb1-8e48-4768-9883-9cb45f6ff02a",
   "metadata": {},
   "source": [
    "Exercise 7 - Create a markdown cell introducing arithmetic expression examples"
   ]
  },
  {
   "cell_type": "markdown",
   "id": "f37cf795-c418-4990-89ef-8fe99ea9432f",
   "metadata": {},
   "source": [
    "### Below are a few examples of evaluating arithmetic expressions in Python."
   ]
  },
  {
   "cell_type": "markdown",
   "id": "aae0fcd2-d5e8-4977-9e1b-faa108062b51",
   "metadata": {},
   "source": [
    "Exercise 8 - Create a code cell to multiply and add numbers"
   ]
  },
  {
   "cell_type": "code",
   "execution_count": 14,
   "id": "5e38f1b6-0a7a-459e-8090-d8e281a636f3",
   "metadata": {
    "tags": []
   },
   "outputs": [
    {
     "data": {
      "text/plain": [
       "17"
      ]
     },
     "execution_count": 14,
     "metadata": {},
     "output_type": "execute_result"
    }
   ],
   "source": [
    "# This a simple arithmetic expression to mutiply then add integers\n",
    "(3*4) + 5"
   ]
  },
  {
   "cell_type": "markdown",
   "id": "69813de0-1de2-4869-8337-a23e64d49a98",
   "metadata": {},
   "source": [
    "Exercise 9 - Create a code cell to convert minutes to hours"
   ]
  },
  {
   "cell_type": "code",
   "execution_count": 15,
   "id": "e8f19d17-37f9-4610-86e7-4bf2c49bcc7f",
   "metadata": {
    "tags": []
   },
   "outputs": [
    {
     "name": "stdout",
     "output_type": "stream",
     "text": [
      "Result =  3.33 hours\n"
     ]
    }
   ],
   "source": [
    "# This will convert 200 minutes to hours by diving by 60\n",
    "result = 200/60\n",
    "print (\"Result = \",round(result,2),\"hours\")\n"
   ]
  },
  {
   "cell_type": "markdown",
   "id": "d7f24c3d-d823-45f7-ae8c-0c8d6741188a",
   "metadata": {},
   "source": [
    "Exercise 10 - Insert a markdown cell to list Objectives"
   ]
  },
  {
   "cell_type": "markdown",
   "id": "459b7f98-4868-4f9c-a348-370128e0ebf2",
   "metadata": {},
   "source": [
    "**Objectives:**\n",
    "- Python\n",
    "- R\n",
    "- Jupyter\n",
    "- Julia\n",
    "- Scala\n",
    "\n",
    "    "
   ]
  },
  {
   "cell_type": "markdown",
   "id": "cfc4aa3c-2079-44d7-83ee-c83bf8db0c67",
   "metadata": {},
   "source": [
    "Exercise 11 - Create a markdown cell to indicate the Author's name"
   ]
  },
  {
   "cell_type": "markdown",
   "id": "d0cc8fa0-a93d-4c76-8e38-83acab791317",
   "metadata": {},
   "source": [
    "## Author\n",
    "Tuan Trinh"
   ]
  },
  {
   "cell_type": "code",
   "execution_count": null,
   "id": "f9ce4ac4-d251-48e7-82f2-3298d8819fee",
   "metadata": {},
   "outputs": [],
   "source": []
  }
 ],
 "metadata": {
  "kernelspec": {
   "display_name": "Python",
   "language": "python",
   "name": "conda-env-python-py"
  },
  "language_info": {
   "codemirror_mode": {
    "name": "ipython",
    "version": 3
   },
   "file_extension": ".py",
   "mimetype": "text/x-python",
   "name": "python",
   "nbconvert_exporter": "python",
   "pygments_lexer": "ipython3",
   "version": "3.7.12"
  }
 },
 "nbformat": 4,
 "nbformat_minor": 5
}
